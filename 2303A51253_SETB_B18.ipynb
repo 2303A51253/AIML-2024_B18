{
  "nbformat": 4,
  "nbformat_minor": 0,
  "metadata": {
    "colab": {
      "provenance": [],
      "authorship_tag": "ABX9TyMwE7zr0dhdCKw92KB1gY22",
      "include_colab_link": true
    },
    "kernelspec": {
      "name": "python3",
      "display_name": "Python 3"
    },
    "language_info": {
      "name": "python"
    }
  },
  "cells": [
    {
      "cell_type": "markdown",
      "metadata": {
        "id": "view-in-github",
        "colab_type": "text"
      },
      "source": [
        "<a href=\"https://colab.research.google.com/github/2303A51253/AIML-2024_B18/blob/main/2303A51253_SETB_B18.ipynb\" target=\"_parent\"><img src=\"https://colab.research.google.com/assets/colab-badge.svg\" alt=\"Open In Colab\"/></a>"
      ]
    },
    {
      "cell_type": "code",
      "execution_count": 1,
      "metadata": {
        "id": "yPBfb_ux_5bx"
      },
      "outputs": [],
      "source": [
        "import pandas as pd\n",
        "from sklearn.cluster import KMeans\n",
        "from sklearn.preprocessing import StandardScaler\n",
        "\n",
        "file_path = '/content/buddymove_holidayiq.csv'\n",
        "data = pd.read_csv(file_path)"
      ]
    },
    {
      "cell_type": "code",
      "source": [
        "from google.colab import drive\n",
        "drive.mount('/content/drive')"
      ],
      "metadata": {
        "colab": {
          "base_uri": "https://localhost:8080/"
        },
        "id": "vxH7JxU9CCYo",
        "outputId": "b2d70a4a-b2fd-456b-aa38-b2ddbe233631"
      },
      "execution_count": 3,
      "outputs": [
        {
          "output_type": "stream",
          "name": "stdout",
          "text": [
            "Mounted at /content/drive\n"
          ]
        }
      ]
    },
    {
      "cell_type": "code",
      "source": [
        "attribute_means = data.drop(columns=['User Id']).mean().sort_values(ascending=False)\n",
        "\n",
        "top_5_attributes = attribute_means.head(5)\n",
        "print(\"Top 5 Attributes for South India Destinations:\")\n",
        "print(top_5_attributes)"
      ],
      "metadata": {
        "colab": {
          "base_uri": "https://localhost:8080/"
        },
        "id": "nrrvPNWnCJ__",
        "outputId": "41614406-22c7-4a82-c13e-5b2e540e10d6"
      },
      "execution_count": 4,
      "outputs": [
        {
          "output_type": "stream",
          "name": "stdout",
          "text": [
            "Top 5 Attributes for South India Destinations:\n",
            "Nature       124.518072\n",
            "Picnic       120.401606\n",
            "Theatre      116.377510\n",
            "Shopping     112.638554\n",
            "Religious    109.779116\n",
            "dtype: float64\n"
          ]
        }
      ]
    },
    {
      "cell_type": "code",
      "source": [
        "most_liked_attribute = attribute_means.idxmax(), attribute_means.max()\n",
        "print(\"\\nAttribute with Most Liked Travel Spots:\", most_liked_attribute)"
      ],
      "metadata": {
        "colab": {
          "base_uri": "https://localhost:8080/"
        },
        "id": "-nJKZYe1COMA",
        "outputId": "f325c9e8-e569-476a-bb79-164cc0b3c2ee"
      },
      "execution_count": 5,
      "outputs": [
        {
          "output_type": "stream",
          "name": "stdout",
          "text": [
            "\n",
            "Attribute with Most Liked Travel Spots: ('Nature', 124.51807228915662)\n"
          ]
        }
      ]
    },
    {
      "cell_type": "code",
      "source": [
        "max_attribute = attribute_means.idxmax(), attribute_means.max()\n",
        "min_attribute = attribute_means.idxmin(), attribute_means.min()\n",
        "\n",
        "print(\"\\nMaximum Attribute of Choice:\", max_attribute)\n",
        "print(\"Minimum Attribute of Choice:\", min_attribute)"
      ],
      "metadata": {
        "colab": {
          "base_uri": "https://localhost:8080/"
        },
        "id": "0Y3oGuwBCRZH",
        "outputId": "09996eec-7933-432a-c71d-40d1defafccf"
      },
      "execution_count": 6,
      "outputs": [
        {
          "output_type": "stream",
          "name": "stdout",
          "text": [
            "\n",
            "Maximum Attribute of Choice: ('Nature', 124.51807228915662)\n",
            "Minimum Attribute of Choice: ('Sports', 11.987951807228916)\n"
          ]
        }
      ]
    },
    {
      "cell_type": "code",
      "source": [
        "role_analysis = data[['Nature', 'Picnic', 'Theatre', 'Shopping']].mean()\n",
        "\n",
        "print(\"\\nRole Analysis for Beaches, Theatres, Malls, and Parks:\")\n",
        "print(role_analysis)"
      ],
      "metadata": {
        "colab": {
          "base_uri": "https://localhost:8080/"
        },
        "id": "TwPr2OBfCUgf",
        "outputId": "98b379bb-2aa3-4ba5-ddc8-7df68f4dd93d"
      },
      "execution_count": 7,
      "outputs": [
        {
          "output_type": "stream",
          "name": "stdout",
          "text": [
            "\n",
            "Role Analysis for Beaches, Theatres, Malls, and Parks:\n",
            "Nature      124.518072\n",
            "Picnic      120.401606\n",
            "Theatre     116.377510\n",
            "Shopping    112.638554\n",
            "dtype: float64\n"
          ]
        }
      ]
    },
    {
      "cell_type": "code",
      "source": [
        "sports_attribute_mean = data['Sports'].mean()\n",
        "print(\"\\nSports Attribute Mean Rating:\", sports_attribute_mean)"
      ],
      "metadata": {
        "colab": {
          "base_uri": "https://localhost:8080/"
        },
        "id": "ITzdNsEbCXy3",
        "outputId": "eb003b5d-7994-4ae8-e738-3a8daa346e37"
      },
      "execution_count": 8,
      "outputs": [
        {
          "output_type": "stream",
          "name": "stdout",
          "text": [
            "\n",
            "Sports Attribute Mean Rating: 11.987951807228916\n"
          ]
        }
      ]
    },
    {
      "cell_type": "code",
      "source": [
        "X = data.drop(columns=['User Id'])\n",
        "scaler = StandardScaler()\n",
        "X_scaled = scaler.fit_transform(X)"
      ],
      "metadata": {
        "id": "lk6lJEKgCac3"
      },
      "execution_count": 10,
      "outputs": []
    },
    {
      "cell_type": "code",
      "source": [
        "kmeans = KMeans(n_clusters=3, random_state=42)\n",
        "clusters = kmeans.fit_predict(X_scaled)"
      ],
      "metadata": {
        "colab": {
          "base_uri": "https://localhost:8080/",
          "height": 159
        },
        "id": "HT5zseIpCdb3",
        "outputId": "3b125381-0b79-4d8e-8681-0d678189f103"
      },
      "execution_count": 9,
      "outputs": [
        {
          "output_type": "error",
          "ename": "NameError",
          "evalue": "name 'X_scaled' is not defined",
          "traceback": [
            "\u001b[0;31m---------------------------------------------------------------------------\u001b[0m",
            "\u001b[0;31mNameError\u001b[0m                                 Traceback (most recent call last)",
            "\u001b[0;32m<ipython-input-9-b1b276c01706>\u001b[0m in \u001b[0;36m<cell line: 2>\u001b[0;34m()\u001b[0m\n\u001b[1;32m      1\u001b[0m \u001b[0mkmeans\u001b[0m \u001b[0;34m=\u001b[0m \u001b[0mKMeans\u001b[0m\u001b[0;34m(\u001b[0m\u001b[0mn_clusters\u001b[0m\u001b[0;34m=\u001b[0m\u001b[0;36m3\u001b[0m\u001b[0;34m,\u001b[0m \u001b[0mrandom_state\u001b[0m\u001b[0;34m=\u001b[0m\u001b[0;36m42\u001b[0m\u001b[0;34m)\u001b[0m\u001b[0;34m\u001b[0m\u001b[0;34m\u001b[0m\u001b[0m\n\u001b[0;32m----> 2\u001b[0;31m \u001b[0mclusters\u001b[0m \u001b[0;34m=\u001b[0m \u001b[0mkmeans\u001b[0m\u001b[0;34m.\u001b[0m\u001b[0mfit_predict\u001b[0m\u001b[0;34m(\u001b[0m\u001b[0mX_scaled\u001b[0m\u001b[0;34m)\u001b[0m\u001b[0;34m\u001b[0m\u001b[0;34m\u001b[0m\u001b[0m\n\u001b[0m",
            "\u001b[0;31mNameError\u001b[0m: name 'X_scaled' is not defined"
          ]
        }
      ]
    },
    {
      "cell_type": "code",
      "source": [
        "kmeans = KMeans(n_clusters=3, random_state=42)\n",
        "clusters = kmeans.fit_predict(X_scaled)\n",
        "\n",
        "data['Cluster'] = clusters\n",
        "\n",
        "print(\"\\nCluster Distribution:\")\n",
        "print(data['Cluster'].value_counts())"
      ],
      "metadata": {
        "colab": {
          "base_uri": "https://localhost:8080/"
        },
        "id": "6fksO2yECgq_",
        "outputId": "dff5fcf2-fd0e-4d77-a261-9aa4458d81a3"
      },
      "execution_count": 11,
      "outputs": [
        {
          "output_type": "stream",
          "name": "stdout",
          "text": [
            "\n",
            "Cluster Distribution:\n",
            "Cluster\n",
            "2    114\n",
            "0     79\n",
            "1     56\n",
            "Name: count, dtype: int64\n"
          ]
        }
      ]
    }
  ]
}